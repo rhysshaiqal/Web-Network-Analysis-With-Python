{
 "cells": [
  {
   "cell_type": "code",
   "execution_count": 1,
   "metadata": {},
   "outputs": [],
   "source": [
    "\n"
   ]
  },
  {
   "cell_type": "code",
   "execution_count": 2,
   "metadata": {},
   "outputs": [],
   "source": [
    "import networkx as nx\n",
    "import scipy.io\n",
    "import pandas as pd\n",
    "import matplotlib.pyplot as plt\n",
    "\n",
    "# Load dataset (Update path if necessary)\n",
    "file_path = \"web-Google.mtx\"  # Update with the correct location\n",
    "\n"
   ]
  },
  {
   "cell_type": "code",
   "execution_count": 3,
   "metadata": {},
   "outputs": [],
   "source": [
    "# Read the MTX file into a sparse matrix\n",
    "matrix = scipy.io.mmread(file_path)\n",
    "\n",
    "# Convert the sparse matrix into an edge list\n",
    "rows, cols = matrix.nonzero()\n",
    "edges = list(zip(rows, cols))"
   ]
  },
  {
   "cell_type": "code",
   "execution_count": 4,
   "metadata": {},
   "outputs": [
    {
     "name": "stdout",
     "output_type": "stream",
     "text": [
      "Graph Loaded: 875713 nodes, 5105039 edges\n"
     ]
    }
   ],
   "source": [
    "# Create a directed graph using NetworkX\n",
    "G = nx.DiGraph()\n",
    "G.add_edges_from(edges)\n",
    "\n",
    "print(f\"Graph Loaded: {G.number_of_nodes()} nodes, {G.number_of_edges()} edges\")"
   ]
  },
  {
   "cell_type": "code",
   "execution_count": null,
   "metadata": {},
   "outputs": [],
   "source": [
    "# Faster PageRank (using power iteration)\n",
    "pagerank = nx.pagerank(G, alpha=0.85, max_iter=100, tol=1e-04)\n",
    "\n",
    "# Optimized In-Degree Centrality (dictionary comprehension for speed)\n",
    "in_degree_centrality = {node: deg / (len(G) - 1) for node, deg in G.in_degree()}\n",
    "\n",
    "# Approximate Betweenness Centrality (random sample of 500 nodes instead of full graph)\n",
    "betweenness_centrality = nx.betweenness_centrality(G, k=500, normalized=True)\n"
   ]
  },
  {
   "cell_type": "code",
   "execution_count": null,
   "metadata": {},
   "outputs": [],
   "source": [
    "# Identify top 3 most important nodes for each metric\n",
    "top_nodes_pagerank = sorted(pagerank.items(), key=lambda x: x[1], reverse=True)[:3]\n",
    "top_nodes_indegree = sorted(in_degree_centrality.items(), key=lambda x: x[1], reverse=True)[:3]\n",
    "top_nodes_betweenness = sorted(betweenness_centrality.items(), key=lambda x: x[1], reverse=True)[:3]\n",
    "\n",
    "# Convert results to DataFrame for display\n",
    "df_importance = pd.DataFrame({\n",
    "    \"Top PageRank Nodes\": [node[0] for node in top_nodes_pagerank],\n",
    "    \"Top In-Degree Nodes\": [node[0] for node in top_nodes_indegree],\n",
    "    \"Top Betweenness Nodes\": [node[0] for node in top_nodes_betweenness]\n",
    "})\n",
    "\n",
    "print(df_importance)"
   ]
  },
  {
   "cell_type": "code",
   "execution_count": null,
   "metadata": {},
   "outputs": [],
   "source": [
    "# Visualize degree distribution\n",
    "degree_sequence = sorted([d for n, d in G.in_degree()], reverse=True)\n",
    "plt.figure(figsize=(10, 5))\n",
    "plt.hist(degree_sequence, bins=100, log=True)\n",
    "plt.title(\"In-Degree Distribution of Web-Google Network\")\n",
    "plt.xlabel(\"In-Degree\")\n",
    "plt.ylabel(\"Frequency (Log Scale)\")\n",
    "plt.show()"
   ]
  },
  {
   "cell_type": "code",
   "execution_count": null,
   "metadata": {},
   "outputs": [],
   "source": [
    "# Visualization of the top PageRank nodes\n",
    "plt.figure(figsize=(10, 10))\n",
    "subgraph = G.subgraph([node[0] for node in top_nodes_pagerank])\n",
    "nx.draw(subgraph, with_labels=True, node_color='red', edge_color='gray', node_size=500, font_size=8)\n",
    "plt.title(\"Visualization of Top PageRank Nodes\")\n",
    "plt.show()"
   ]
  }
 ],
 "metadata": {
  "kernelspec": {
   "display_name": "Python 3",
   "language": "python",
   "name": "python3"
  },
  "language_info": {
   "codemirror_mode": {
    "name": "ipython",
    "version": 3
   },
   "file_extension": ".py",
   "mimetype": "text/x-python",
   "name": "python",
   "nbconvert_exporter": "python",
   "pygments_lexer": "ipython3",
   "version": "3.12.2"
  }
 },
 "nbformat": 4,
 "nbformat_minor": 2
}
